{
  "nbformat": 4,
  "nbformat_minor": 0,
  "metadata": {
    "colab": {
      "name": "Movie Recommendation System",
      "private_outputs": true,
      "provenance": [],
      "collapsed_sections": [],
      "toc_visible": true,
      "include_colab_link": true
    },
    "kernelspec": {
      "name": "python3",
      "display_name": "Python 3"
    },
    "language_info": {
      "name": "python"
    }
  },
  "cells": [
    {
      "cell_type": "markdown",
      "metadata": {
        "id": "view-in-github",
        "colab_type": "text"
      },
      "source": [
        "<a href=\"https://colab.research.google.com/github/brown919/CMSE202_Git_Started/blob/main/Movie_Recommendation_System.ipynb\" target=\"_parent\"><img src=\"https://colab.research.google.com/assets/colab-badge.svg\" alt=\"Open In Colab\"/></a>"
      ]
    },
    {
      "cell_type": "markdown",
      "source": [
        "This workshop is based on [the original work](https://www.kaggle.com/rounakbanik/movie-recommender-systems/notebook) done by Rounak Banik. Thank you! 🙏"
      ],
      "metadata": {
        "id": "DdqDb9qcgVUz"
      }
    },
    {
      "cell_type": "markdown",
      "source": [
        "# Step 1: Download dataset\n",
        "The following command will download our dataset, a file called `movies.csv`, from Google Drive. Run it and then check the files tab on the left to make sure it's there."
      ],
      "metadata": {
        "id": "b61vZf97pefl"
      }
    },
    {
      "cell_type": "code",
      "source": [
        "!gdown https://drive.google.com/uc?id=1vbCnO9blSUE8IR5BHNMXY_OfOY_Cos88"
      ],
      "metadata": {
        "id": "haXXBjhhpGBL"
      },
      "execution_count": null,
      "outputs": []
    },
    {
      "cell_type": "markdown",
      "source": [
        "# Step 2: Load movie data in Python\n",
        "The following code is *almost* correct, but it contains a typo. It's *supposed* to load the file `movies.csv` into a pandas dataframe called `movies`. Can you fix it? (Once you have it working, you should be able to see the first 5 rows of data displayed.)"
      ],
      "metadata": {
        "id": "lyDzjLZuzwt2"
      }
    },
    {
      "cell_type": "code",
      "source": [
        "import pandas as pd\n",
        "\n",
        "# Load the \"movies\" dataframe from movies.csv\n",
        "movies = pd.read_csv(\"moves.csv\")\n",
        "\n",
        "# Display the first 5 rows\n",
        "movies.head(5)"
      ],
      "metadata": {
        "id": "4jQWli4f0qXr"
      },
      "execution_count": null,
      "outputs": []
    },
    {
      "cell_type": "markdown",
      "source": [
        "That's a lot of data! Having all these columns is awesome, but it's a bit distracting when we just want to focus on a few. Let's fix that. The following code simplifies the dataframe to only contain three columns: `title`, `release_date`, and `budget`.\n",
        "\n",
        "**Your task:** Can you change it to keep the `title` and `popularity` columns instead?"
      ],
      "metadata": {
        "id": "Q7eepXeY1PHO"
      }
    },
    {
      "cell_type": "code",
      "source": [
        "# Create a simpler dataframe with only a few columns\n",
        "# Your job: Change this to keep the `title` and `popularity` columns instead\n",
        "movies_simple = movies[[\"title\", \"release_date\", \"budget\"]]\n",
        "\n",
        "# Display the first 5 rows of the simplified dataframe\n",
        "movies_simple.head(5)"
      ],
      "metadata": {
        "id": "ZHMlK-wg137t"
      },
      "execution_count": null,
      "outputs": []
    },
    {
      "cell_type": "markdown",
      "source": [
        "Hopefully you see just two columns: \"title\" and \"popularity\"."
      ],
      "metadata": {
        "id": "Cd1b6XhtcgjD"
      }
    },
    {
      "cell_type": "markdown",
      "source": [
        "# Step 3: Sort movies by popularity\n",
        "By default, `movies.csv` is sorted from oldest to newest. But we're looking for a nice Valentine's day option, and the oldest movies aren't necessarily the best. Can you sort the movies so that the most popular are at the top?\n",
        "\n",
        "The following code sorts the movies alphabetically based on their title. Can you change it to sort by popularity? We want the most popular movies at the top."
      ],
      "metadata": {
        "id": "LsuOANNjzrmv"
      }
    },
    {
      "cell_type": "code",
      "source": [
        "# Sort movies_simple\n",
        "movies_simple_sorted = movies_simple.sort_values(\"title\", ascending=True)\n",
        "\n",
        "# Display the first 10 rows\n",
        "movies_simple_sorted.head(10)"
      ],
      "metadata": {
        "id": "zW5-1dRPyur0"
      },
      "execution_count": null,
      "outputs": []
    },
    {
      "cell_type": "markdown",
      "source": [
        "This... This is not good. We were looking for a good Valentine's day movie, and what we got was *Minions*.\n",
        "\n",
        "![\"You are 1 in a minion\" meme](https://i.imgur.com/bQ5VwDs.png)"
      ],
      "metadata": {
        "id": "264e0hWxzeme"
      }
    },
    {
      "cell_type": "markdown",
      "source": [
        "# Step 4: Sort movies by votes (optional)\n",
        "\n",
        "(This step is optional. So if you are in the mood to relax a bit, you are free to skip on to the next step. But if you want to learn about a cool equation that solves a tricky problem, then continue here.)\n",
        "\n",
        "It's not entirely clear what this \"popularity\" metric even means, but it doesn't seem to be giving us the best results. When we simplified our database, we got rid of two rows called `vote_count` and `vote_average`. Those columns keep track of the ratings (out of 10 stars) that reviewers gave each movie. So perhaps instead of relying on popularity, we could sort movies based on the votes they received.\n",
        "\n",
        "The following code creates a dataframe that includes the vote columns. **Can you add a final line that will sort it based on `vote_average`?** We want the highest vote averages at the top. (Refer to your previous code for a reminder on how to sort.)"
      ],
      "metadata": {
        "id": "swQjg9_5fbHW"
      }
    },
    {
      "cell_type": "code",
      "source": [
        "# Create a dataframe with the vote columns:\n",
        "movies_with_votes = movies[[\"title\", \"vote_count\", \"vote_average\"]]\n",
        "\n",
        "# Sort the `movies_with_votes` dataframe by \"vote_average\":\n",
        "# ???\n",
        "\n",
        "# Display the first 10 results:\n",
        "movies_with_votes.head(10)"
      ],
      "metadata": {
        "id": "n15-zGzJ6DPo"
      },
      "execution_count": null,
      "outputs": []
    },
    {
      "cell_type": "markdown",
      "source": [
        "Hmmm... There's something interesting about these results. They all have a `vote_count` of 1.\n",
        "\n",
        "This makes sense. We're just sorting movies by their average rating. If only one person has rated your movie, it's much easier to achieve a 10/10 than if 500 people all rate your movie. With fewer total votes, it's easier to achieve a more extreme result (good or bad) than it is with many votes.\n",
        "\n",
        "So just looking for the highest average score won't do. We also need to reward the movies with more total votes.\n",
        "\n",
        "This is tricky to do correctly, but IMDB allegedly uses the following formula to compute a score for each movie:\n",
        "\n",
        "$$\n",
        "\\text{Weighted Rating} = \\left(\\frac{v}{v+m} \\cdot R\\right) + \\left(\\frac{m}{v+m} \\cdot C\\right)\n",
        "$$\n",
        "\n",
        "Where...\n",
        "* $v$ is the `vote_count` for the movie\n",
        "* $m$ is the minimum `vote_count` required to be included on the chart\n",
        "* $R$ is the `vote_average` for the movie\n",
        "* $C$ is the vote average across all movies\n",
        "\n",
        "Notice that the definition of $m$ means that we need to choose a cutoff point for our list. (i.e. We can't include all the movies.) For our list, let's look at which movies have the most votes cast (the highest `vote_count`) and choose the top 30% (i.e. the 70th percentile). We'll calculate that value $m$ in the code below:"
      ],
      "metadata": {
        "id": "o18Gh7qk637f"
      }
    },
    {
      "cell_type": "code",
      "source": [
        "# Get the entire vote_counts column as a list\n",
        "vote_counts = movies_with_votes[\"vote_count\"]\n",
        "\n",
        "# Compute the 70th percentile vote count\n",
        "m = vote_counts.quantile(0.70)\n",
        "\n",
        "print(m)"
      ],
      "metadata": {
        "id": "jGy9-KQ_KaU8"
      },
      "execution_count": null,
      "outputs": []
    },
    {
      "cell_type": "markdown",
      "source": [
        "Now that we have our cutoff point $m$, the minimum `vote_count` required to be considered for our top movies list, let's filter to only look at movies with a `vote_count` of at least $m$:"
      ],
      "metadata": {
        "id": "zmFbjnK7hFbL"
      }
    },
    {
      "cell_type": "code",
      "source": [
        "top_movies = movies_with_votes[movies_with_votes[\"vote_count\"] >= m]\n",
        "\n",
        "print(\"Total number of movies:\", len(movies_with_votes))\n",
        "print(\"Number of movies above the 70th percentile:\", len(top_movies))"
      ],
      "metadata": {
        "id": "qiVKmV55NSk-"
      },
      "execution_count": null,
      "outputs": []
    },
    {
      "cell_type": "markdown",
      "source": [
        "The number of movies above the 70th percentile should be about 30% the total number of movies, and it is! Now let's compute $C$, the average vote across all our `top_movies`:"
      ],
      "metadata": {
        "id": "CCkCwwjzhSym"
      }
    },
    {
      "cell_type": "code",
      "source": [
        "vote_averages = top_movies['vote_average']\n",
        "C = vote_averages.mean()\n",
        "print(C)"
      ],
      "metadata": {
        "id": "HBUMde-PMrtB"
      },
      "execution_count": null,
      "outputs": []
    },
    {
      "cell_type": "markdown",
      "source": [
        "One issue with the above calculation is that we aren't taking into account the number of votes each movie has received. You may try to fix it if you are so inclined. Otherwise, we'll take this value of $C$ as a good-enough approximation.\n",
        "\n",
        "Now we have $m$ and $C$, the two variables that depend on *all* the movies. The other two variables, $v$ and $R$, are the `vote_count` and `vote_average` for a particular movie respectively.\n",
        "\n",
        "To remind you, the equation we're using to score each movie is this:\n",
        "\n",
        "$$\n",
        "\\text{Weighted Rating} = \\left(\\frac{v}{v+m} \\cdot R\\right) + \\left(\\frac{m}{v+m} \\cdot C\\right)\n",
        "$$\n",
        "\n",
        "Your job is to create a `weighted_rating` function which computes the weighted rating for a given movie. Then we can use this function to add a new `weighted_rating` column to the table.\n",
        "\n",
        "The function is already started for you; your job is to complete it based on the equation above. (Remember that you have the variables `m` and `C` available to you because we calculated them earlier.)"
      ],
      "metadata": {
        "id": "-sVWobjThvDK"
      }
    },
    {
      "cell_type": "code",
      "source": [
        "def weighted_rating(movie):\n",
        "    v = movie[\"vote_count\"]\n",
        "    R = movie[\"vote_average\"]\n",
        "\n",
        "    # Calculated weighted rating based on v, m, R, and C\n",
        "    # return # ???\n",
        "\n",
        "top_movies[\"weighted_rating\"] = top_movies.apply(weighted_rating, axis=1)\n",
        "\n",
        "top_movies.head(5)"
      ],
      "metadata": {
        "id": "RtjuCWM9aLGX"
      },
      "execution_count": null,
      "outputs": []
    },
    {
      "cell_type": "markdown",
      "source": [
        "Amazing! If your function is correct, you should see a new `weighted_rating` column, with values between about 0 and 10.\n",
        "\n",
        "All that's left to do is to sort the movies based on their weighted rating. Can you do it?"
      ],
      "metadata": {
        "id": "ROcJvKXCjVIM"
      }
    },
    {
      "cell_type": "code",
      "source": [
        "# Sort top_movies based on the new weighted_rating column:\n",
        "top_movies = # ???\n",
        "\n",
        "# Display the top 10 movies:\n",
        "top_movies.head(10)"
      ],
      "metadata": {
        "id": "mBXkdR_JjTZv"
      },
      "execution_count": null,
      "outputs": []
    },
    {
      "cell_type": "markdown",
      "source": [
        "Looking good. :)\n",
        "\n",
        "<img src=\"https://img.buzzfeed.com/buzzfeed-static/static/2015-07/10/13/campaign_images/webdr04/how-much-do-you-hate-minions-2-19159-1436549099-1_dblbig.jpg\" alt=\"Goodbye minions\" width=\"300\" />"
      ],
      "metadata": {
        "id": "Utn36t__kFPx"
      }
    },
    {
      "cell_type": "markdown",
      "source": [
        "# What's next?\n",
        "Okay! This is great. We've created a list of good movies; the peoples' choice. Is this all we need to do?\n",
        "\n",
        "Well, no.\n",
        "\n",
        "Our top 10 list includes Schindler's List. It's an excellent movie, with a [98% on rotten tomatoes](https://www.rottentomatoes.com/m/schindlers_list). But it doesn't exactly give me Valentine's vibes. It would be lovely if we could create a recommendation algorithm that recommends new movies based on what you've already watched. That way, we could pick a few movies that we know fit the mood, and then find more with similar vibes."
      ],
      "metadata": {
        "id": "CFolnET8lN0L"
      }
    },
    {
      "cell_type": "markdown",
      "source": [
        "# Step 5: Create descriptions for each movie\n",
        "To determine which movies are similar, we are going to compare text descriptions of one movie to another. This process requires a lot of memory, and doing it for all ~50,000 movies in the dataset will be too much for the computer to handle.\n",
        "\n",
        "So let's cut the size of the dataset in half by selecting only the most popular movies.\n",
        "\n",
        "We can filter for popular movies by setting a lower bound, such as the following code, which selects movies with a popularity of more than 4.00:"
      ],
      "metadata": {
        "id": "U6LitTxHfm3a"
      }
    },
    {
      "cell_type": "code",
      "source": [
        "# Select movies with popularity > 4\n",
        "popular_movies = movies[movies[\"popularity\"] > 4]\n",
        "\n",
        "print(\"Total number of movies:\", len(movies))\n",
        "print(\"Number of popular movies:\", len(popular_movies))"
      ],
      "metadata": {
        "id": "nJTR5Oj74smV"
      },
      "execution_count": null,
      "outputs": []
    },
    {
      "cell_type": "markdown",
      "source": [
        "The code above selects the 10,801 most popular movies, because that's how many movies have a popularity greater than 4.\n",
        "\n",
        "But we want to select about half the movies. We *could* do this by guessing and checking for a threshold, but there's an easier way.\n",
        "\n",
        "The following code prints out the popularity threshold that selects for only the top 30% of movies (i.e. the 30th percentile). Can you change it to get the threshold at 50%?"
      ],
      "metadata": {
        "id": "v33hsxVr5tSp"
      }
    },
    {
      "cell_type": "code",
      "source": [
        "# Print the 70th percentile popularity (which will select the top 30% of movies)\n",
        "# Can you change it to select 50% of the movies?\n",
        "print(movies[\"popularity\"].quantile(0.7))"
      ],
      "metadata": {
        "id": "WsCn7Zeg6tEo"
      },
      "execution_count": null,
      "outputs": []
    },
    {
      "cell_type": "markdown",
      "source": [
        "Now use the value you get to grab the top 50% of movies:"
      ],
      "metadata": {
        "id": "vzGHd3CV69rJ"
      }
    },
    {
      "cell_type": "code",
      "source": [
        "# CHANGE THIS LINE. We want the top 50% of movies. Use your value from above.\n",
        "popular_movies = movies[movies[\"popularity\"] > 4]\n",
        "\n",
        "print(\"Total number of movies:\", len(movies))\n",
        "print(\"Number of popular movies (hopefully about 22730):\", len(popular_movies))"
      ],
      "metadata": {
        "id": "ZCyAmMiE7Eia"
      },
      "execution_count": null,
      "outputs": []
    },
    {
      "cell_type": "markdown",
      "source": [
        "Amazing. We've simplified our dataset to only contain the top half of movies. (The computer will be thanking us later for making the dataset smaller. 😅)\n",
        "\n",
        "Now... We want to compare movies based on their text description. So let's create a simplified table which only stores the text information about each movie.\n",
        "\n",
        "The following code selects just the \"title\" and \"language\" columns. Can you change it to select \"title\", \"tagline\", and \"overview\" instead?"
      ],
      "metadata": {
        "id": "kjSDo3pr4vn0"
      }
    },
    {
      "cell_type": "code",
      "source": [
        "# Get just the text columns for each movie. (Requires changes)\n",
        "movies_text = popular_movies[[\"title\", \"language\"]]\n",
        "\n",
        "movies_text.head(5)"
      ],
      "metadata": {
        "id": "ABuExZlS8EAa"
      },
      "execution_count": null,
      "outputs": []
    },
    {
      "cell_type": "markdown",
      "source": [
        "Pretty good! But as you can see, the `tagline` for Toy Story is `NaN`, which stands for \"not a number\". Obviously the tagline is never a number, but in this case `NaN` means that there is no tagline. The same can also happen in the `overview` column. To fix this, let's replace `NaN` values with empty strings instead:"
      ],
      "metadata": {
        "id": "8iTb4hMrpm4r"
      }
    },
    {
      "cell_type": "code",
      "source": [
        "movies_text[\"tagline\"].fillna(\"\", inplace=True)\n",
        "movies_text[\"overview\"].fillna(\"\", inplace=True)\n",
        "\n",
        "# Display the first 5 rows now:\n",
        "movies_text.head(5)"
      ],
      "metadata": {
        "id": "ItCtEtvZp5eA"
      },
      "execution_count": null,
      "outputs": []
    },
    {
      "cell_type": "markdown",
      "source": [
        "Nice! Now every cell contains a string (albeit sometimes an empty one).\n",
        "\n",
        "Now, we want a description of each movie that contains as much information as possible. We could use just the tagline or just the overview, but then we would be throwing away the other column, which seems bad.\n",
        "\n",
        "Instead, let's merge the two columns into one new column called \"description\". The description of a movie will just be the tagline plus the overview, concatenated together.\n",
        "\n",
        "The following code creates a \"description\" column which is just the title doubled. Can you change it to merge the \"tagline\" and \"overview\" columns into one instead?"
      ],
      "metadata": {
        "id": "mlpViXIfiTEH"
      }
    },
    {
      "cell_type": "code",
      "source": [
        "# Create a new column called \"description\" which\n",
        "# merges \"tagline\" and \"overview\" together. (Requires changes.)\n",
        "movies_text[\"description\"] = movies_text[\"title\"] + movies_text[\"title\"]\n",
        "\n",
        "# Display the first 3 rows:\n",
        "movies_text.head(3)"
      ],
      "metadata": {
        "id": "Wqp4cheMqjlm"
      },
      "execution_count": null,
      "outputs": []
    },
    {
      "cell_type": "markdown",
      "source": [
        "(If you think your code is correct but can't tell because the text is getting cut off, click the little magic wand button beneath the table.)\n",
        "\n",
        "---\n",
        "\n",
        "Amazing! Now that we've created the description column, we don't really need the original tagline and overview columns anymore. The following code deletes some columns, but accidentally deletes too many. Can you change it to *keep* the \"title\" and \"description\" columns?"
      ],
      "metadata": {
        "id": "xU_vB5ZL93sj"
      }
    },
    {
      "cell_type": "code",
      "source": [
        "# Oops! This code drops too many columns. Can you change it to keep the description column?\n",
        "movie_descriptions = movies_text.drop([\"tagline\", \"overview\", \"description\"], axis=1)\n",
        "\n",
        "movie_descriptions.head(5)"
      ],
      "metadata": {
        "id": "aCNJmP9FizH7"
      },
      "execution_count": null,
      "outputs": []
    },
    {
      "cell_type": "markdown",
      "source": [
        "Fantastic. Now we just need a way to compare movie descriptions to each other. This will allow us to find similar movies based on a description alone."
      ],
      "metadata": {
        "id": "7-1c8GoVjq9G"
      }
    },
    {
      "cell_type": "markdown",
      "source": [
        "# Step 6: Use Tfidf to compare movies to each other\n",
        "At the beginning of this workshop, we talked about TF-IDF, which stands for \"term frequency, inverse document frequency\". It's a technique for comparing two pieces of text to see if they are similar. And it uses the context clues from all the other texts to ignore common words.\n",
        "\n",
        "Fortunately, the `sklearn` package has lots of help in this department. The following code creates a `TfidfVectorizor` and uses it to compute the `tfidf_matrix`. There's no need to make any changes; just run it and see what happens."
      ],
      "metadata": {
        "id": "mgu2KvZAf8up"
      }
    },
    {
      "cell_type": "code",
      "source": [
        "from sklearn.feature_extraction.text import TfidfVectorizer\n",
        "\n",
        "# Get a list of all the video descriptions:\n",
        "all_descriptions = movie_descriptions[\"description\"]\n",
        "\n",
        "# Create tfidf vectorizer:\n",
        "tf = TfidfVectorizer(analyzer='word', ngram_range=(1, 2), min_df=0, stop_words='english')\n",
        "\n",
        "# Use vectorizer to create tfidf matrix.\n",
        "# This will take a moment to complete.\n",
        "tfidf_matrix = tf.fit_transform(all_descriptions)\n",
        "\n",
        "# Print out the shape of the tfidf_matrix (it is large):\n",
        "print(tfidf_matrix.shape)"
      ],
      "metadata": {
        "id": "PsjCMEUjrXF9"
      },
      "execution_count": null,
      "outputs": []
    },
    {
      "cell_type": "markdown",
      "source": [
        "If all went well, you should see the shape of the tfidf matrix printed above. Mine has 22730 rows and 594892 columns. Hopefully yours is similar.\n",
        "\n",
        "**Question:** What do you think the rows and columns represent? The number of rows should look familiar. What does that tell you about the meaning of each row?\n",
        "\n",
        "The number of columns is much larger than anything we've seen so far. What do you think each column might represent?\n",
        "\n",
        "---\n",
        "\n",
        "Now that we have the tfidf matrix, we can use it to compute the similarity matrix. If the tfidf matrix is $M$, then the similarity matrix is computed by performing $M \\cdot M^T$. If you've taken linear algebra, you might be able to figure out why this makes sense. If not, don't worry too much about it.\n",
        "\n",
        "Let's compute this new similarity matrix. Again, no code changes are necessary:"
      ],
      "metadata": {
        "id": "dMcJL5ryOarh"
      }
    },
    {
      "cell_type": "code",
      "source": [
        "from sklearn.metrics.pairwise import linear_kernel\n",
        "\n",
        "# Compute the similarity matrix. (This will take some time.)\n",
        "similarity_matrix = linear_kernel(tfidf_matrix, tfidf_matrix)\n",
        "\n",
        "print(similarity_matrix.shape)"
      ],
      "metadata": {
        "id": "UKuT4SSFsyP2"
      },
      "execution_count": null,
      "outputs": []
    },
    {
      "cell_type": "markdown",
      "source": [
        "If all went well, you should see the shape of the similarity matrix printed above. What are the dimensions? Mine has 22730 rows and 22730 columns. Hopefully yours is similar.\n",
        "\n",
        "**Question:** What does each entry of the similarity matrix tell you? The number of rows/columns is a clue. (We also talked about this during the presentation.)\n",
        "\n",
        "---\n",
        "\n",
        "Now that we have `similarity_matrix`, we can use it to check the similarity between any two movies. Each movie has a row number in our dataset, so to check the similarity between the first two movies (in rows 0 and 1 respectively), we get the corresponding entry from the similarity matrix: `similarity_matrix[0, 1]`.\n",
        "\n",
        "Let's write some code that can take any two movies, display their title and description, and then print their similarity. The code has been started for you, and your job is to finish it:"
      ],
      "metadata": {
        "id": "WJx4bXBdPT71"
      }
    },
    {
      "cell_type": "code",
      "source": [
        "movie_A = 0\n",
        "movie_B = 1\n",
        "\n",
        "# Print the title and description for movie A:\n",
        "print(\"Movie A:\", movie_descriptions.loc[movie_A, \"title\"])\n",
        "print(movie_descriptions.loc[movie_A, \"description\"])\n",
        "print()\n",
        "\n",
        "# Print the title and description for movie B:\n",
        "# ???\n",
        "\n",
        "# Get the similarity of the two movies:\n",
        "# (Which entry of similarity_matrix should you grab? You\n",
        "# should be using the `movie_A` and `movie_B` variables.)\n",
        "similarity = # ???\n",
        "print(\"Similarity:\", similarity)"
      ],
      "metadata": {
        "id": "9Fe04UcCkWjd"
      },
      "execution_count": null,
      "outputs": []
    },
    {
      "cell_type": "markdown",
      "source": [
        "If your code is correct and you check the similarity between movie 0 and movie 1, you should see that they are Toy Story and Jumanji respectively, and their similarity score is 0.0056 (not very similar)."
      ],
      "metadata": {
        "id": "099nDc7DQ6sR"
      }
    },
    {
      "cell_type": "markdown",
      "source": [
        "# Step 7: Recommend similar movies\n",
        "Now that we can check the similarity between any two movies, we can take any existing movie and find all the other movies that are *most* similar!\n",
        "\n",
        "Looking up movies by their row number is pretty annoying, so let's start by making it possible to look up a movie by its title.\n",
        "\n",
        "The following code creates a mapping between titles and row numbers. Run it and see what you get:"
      ],
      "metadata": {
        "id": "Ytl1eYL4gIPD"
      }
    },
    {
      "cell_type": "code",
      "source": [
        "# Reset the numbering of the rows to make sure no numbers are skipped because we removed rows\n",
        "movie_descriptions.reset_index(inplace=True)\n",
        "\n",
        "# Create a dictionary (or, really, a pandas \"Series\") mapping\n",
        "# movie titles to the index of that movie in movie_descriptions\n",
        "indices = pd.Series(movie_descriptions.index, index=movie_descriptions['title'])\n",
        "\n",
        "print(indices)"
      ],
      "metadata": {
        "id": "_vuuXpAJmjgM"
      },
      "execution_count": null,
      "outputs": []
    },
    {
      "cell_type": "markdown",
      "source": [
        "Great! Now we can use the following code to check the row number for a particular title."
      ],
      "metadata": {
        "id": "CUBZB9CdRcz4"
      }
    },
    {
      "cell_type": "code",
      "source": [
        "print(indices[\"Grumpier Old Men\"])"
      ],
      "metadata": {
        "id": "EvQhXUsvRiz5"
      },
      "execution_count": null,
      "outputs": []
    },
    {
      "cell_type": "markdown",
      "source": [
        "**Question:** What is the row number of the movie `\"Minions\"`? (Asking for a friend.)\n",
        "\n",
        "Now, if we know the row number for a movie, we can get that same row out of the similarity_matrix. That row will contain the similarities of the movie with every other movie:"
      ],
      "metadata": {
        "id": "F5DvfAehRnAA"
      }
    },
    {
      "cell_type": "code",
      "source": [
        "# Get the movie's index based on its title:\n",
        "index = indices[\"Toy Story\"]\n",
        "\n",
        "# Use that index to get the similarities matrix row\n",
        "# that gives a similarity score for this movie\n",
        "# compared to each other movie:\n",
        "row = similarity_matrix[index]\n",
        "\n",
        "# Print the similarity scores with the first 20 movies:\n",
        "print(row[:20])\n",
        "\n",
        "# (...Of course this row goes on for a very long time\n",
        "# if we don't look at just the first few entries.)"
      ],
      "metadata": {
        "id": "FKSX7C1kTpYD"
      },
      "execution_count": null,
      "outputs": []
    },
    {
      "cell_type": "markdown",
      "source": [
        "As you can see, Toy Story has a similarity of 0 to most of the movies, but it is much more similar to a few of them.\n",
        "\n",
        "We would like to sort this array in order to get the most similar movies first. But if we just do that, we actually lose track of which similarity score corresponds to which movie. (Because the order of this array currently matters.)\n",
        "\n",
        "To solve this, let's use the `enumerate` function to turn every entry into a pair of values: The row of the movie, and the similarity score."
      ],
      "metadata": {
        "id": "S3sbA0tzUDOv"
      }
    },
    {
      "cell_type": "code",
      "source": [
        "# Convert that row to a list of (movie_row, similarity_score) pairs:\n",
        "sim_scores = list(enumerate(row))\n",
        "\n",
        "print(sim_scores)"
      ],
      "metadata": {
        "id": "YBvt6Za5UdKK"
      },
      "execution_count": null,
      "outputs": []
    },
    {
      "cell_type": "markdown",
      "source": [
        "Now we can sort these pairs by their second value (the similarity score). Right now the following code sorts from lowest similarity to highest. Can you reverse the sort?"
      ],
      "metadata": {
        "id": "cBfrYNc5Uhc3"
      }
    },
    {
      "cell_type": "code",
      "source": [
        "# Sort the (movie_row, similarity_score) pairs by similarity score:\n",
        "sim_scores = sorted(sim_scores, key=lambda x: x[1], reverse=False)\n",
        "\n",
        "print(sim_scores)"
      ],
      "metadata": {
        "id": "pTzYiJPZUqjc"
      },
      "execution_count": null,
      "outputs": []
    },
    {
      "cell_type": "markdown",
      "source": [
        "Once you have the high similarity scores first, we can grab just the top 10 highest scorers:"
      ],
      "metadata": {
        "id": "-hHw4RqEUyDZ"
      }
    },
    {
      "cell_type": "code",
      "source": [
        "# Get the top 10 (movie_row, similarity_score) pairs:\n",
        "closest_matches = sim_scores[:10]\n",
        "\n",
        "print(closest_matches)"
      ],
      "metadata": {
        "id": "Hr5jpDYrU2H0"
      },
      "execution_count": null,
      "outputs": []
    },
    {
      "cell_type": "markdown",
      "source": [
        "Now that we have our top 10, we don't need the similarity scores any more. We just care about the first number in each pair, which is the row number of the movie.\n",
        "\n",
        "The following code is *supposed* to grab just the first entry from each pair. But instead, it grabs the second entry (the similarity score). Can you fix it?"
      ],
      "metadata": {
        "id": "85HWVM6nVC-v"
      }
    },
    {
      "cell_type": "code",
      "source": [
        "# Supposed to get just the movie_row out of each (movie_row, similarity_score) pair.\n",
        "# But currently gets the similarity_score instead. (Can you fix it?)\n",
        "movie_indices = [i[1] for i in closest_matches]\n",
        "\n",
        "print(movie_indices)"
      ],
      "metadata": {
        "id": "EvRgtmxOVM3U"
      },
      "execution_count": null,
      "outputs": []
    },
    {
      "cell_type": "markdown",
      "source": [
        "You should see a list like `[0, 2408, 11336, ...]`.\n",
        "\n",
        "Finally, we can use these row numbers to filter our original movie descriptions table and get a nice top 10 list:"
      ],
      "metadata": {
        "id": "OsvegpbbVV3g"
      }
    },
    {
      "cell_type": "code",
      "source": [
        "# Filter the movie_descriptions table to only include the top 10 rows:\n",
        "movie_descriptions.iloc[movie_indices]"
      ],
      "metadata": {
        "id": "yPbASkhmVujk"
      },
      "execution_count": null,
      "outputs": []
    },
    {
      "cell_type": "markdown",
      "source": [
        "Amazing! This top 10 list isn't perfect, but it's not terrible either. We got the first three toy story movies, in order, as being most similar to \"Toy Story\". Pretty good!\n",
        "\n",
        "For convenience, I've taken all the steps from above and merged them into one code block so that you can try running the code with a different movie. Do the results seem any good? (What happens if you try to find movies similar to `\"Minions\"`?)"
      ],
      "metadata": {
        "id": "ZE7eRm5xVxM1"
      }
    },
    {
      "cell_type": "code",
      "source": [
        "# Get the movie's index based on its title:\n",
        "index = indices[\"Toy Story\"]\n",
        "\n",
        "# Use that index to get the similarities matrix row\n",
        "# that gives a similarity score for this movie\n",
        "# compared to each other movie:\n",
        "row = similarity_matrix[index]\n",
        "\n",
        "# Convert that row to a list of (movie_index, similarity_score) pairs:\n",
        "sim_scores = list(enumerate(row))\n",
        "\n",
        "# Sort the (movie_index, similarity_score) pairs by similarity score:\n",
        "sim_scores = sorted(sim_scores, key=lambda x: x[1], reverse=True)\n",
        "\n",
        "# Get the top 10 (movie_index, similarity_score) pairs:\n",
        "sim_scores = sim_scores[:10]\n",
        "\n",
        "# Get just the movie_index out of each pair:\n",
        "movie_indices = [i[0] for i in sim_scores]\n",
        "\n",
        "# Filter the movie_descriptions table to only include the top 10 rows:\n",
        "movie_descriptions.iloc[movie_indices]"
      ],
      "metadata": {
        "id": "T9atb7XfmEIJ"
      },
      "execution_count": null,
      "outputs": []
    },
    {
      "cell_type": "markdown",
      "source": [
        "Hopefully with this knowledge, you are well-equiped to choose a movie.\n",
        "\n",
        "Or, y'know, you could just follow your heart."
      ],
      "metadata": {
        "id": "jQwdpRkcgPZW"
      }
    }
  ]
}